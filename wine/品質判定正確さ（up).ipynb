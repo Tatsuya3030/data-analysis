{
 "cells": [
  {
   "cell_type": "code",
   "execution_count": 1,
   "metadata": {},
   "outputs": [
    {
     "name": "stdout",
     "output_type": "stream",
     "text": [
      "             precision    recall  f1-score   support\n",
      "\n",
      "          0       0.71      0.38      0.49        32\n",
      "          1       0.95      0.99      0.97       905\n",
      "          2       0.86      0.28      0.42        43\n",
      "\n",
      "avg / total       0.93      0.94      0.93       980\n",
      "\n",
      "正解率= 0.940816326531\n"
     ]
    }
   ],
   "source": [
    "import pandas as pd\n",
    "from sklearn.model_selection import train_test_split\n",
    "from sklearn.ensemble import RandomForestClassifier \n",
    "from sklearn.metrics import accuracy_score\n",
    "from sklearn.metrics import classification_report\n",
    "\n",
    "# データを読み込む --- (*1)\n",
    "wine = pd.read_csv(\"winequality-white.csv\", sep=\";\", encoding=\"utf-8\")\n",
    "# データをラベルとデータに分離\n",
    "y = wine[\"quality\"]\n",
    "x = wine.drop(\"quality\", axis=1)\n",
    "\n",
    "# yのラベルをつけ直す --- (*2)\n",
    "newlist = []\n",
    "for v in list(y):\n",
    "    if v <= 4:\n",
    "        newlist += [0]\n",
    "    elif v <= 7:\n",
    "        newlist += [1]\n",
    "    else:\n",
    "        newlist += [2]\n",
    "y = newlist\n",
    "\n",
    "# 学習用とテスト用に分割する --- (*3)\n",
    "x_train, x_test, y_train, y_test = train_test_split(x, y, test_size=0.2)\n",
    "\n",
    "# 学習する --- (*4)\n",
    "model = RandomForestClassifier()\n",
    "model.fit(x_train, y_train)\n",
    "\n",
    "# 評価する --- (*5)\n",
    "y_pred = model.predict(x_test)\n",
    "print(classification_report(y_test, y_pred))\n",
    "print(\"正解率=\", accuracy_score(y_test, y_pred))"
   ]
  },
  {
   "cell_type": "code",
   "execution_count": null,
   "metadata": {
    "collapsed": true
   },
   "outputs": [],
   "source": []
  }
 ],
 "metadata": {
  "kernelspec": {
   "display_name": "Python 3",
   "language": "python",
   "name": "python3"
  },
  "language_info": {
   "codemirror_mode": {
    "name": "ipython",
    "version": 3
   },
   "file_extension": ".py",
   "mimetype": "text/x-python",
   "name": "python",
   "nbconvert_exporter": "python",
   "pygments_lexer": "ipython3",
   "version": "3.6.8"
  }
 },
 "nbformat": 4,
 "nbformat_minor": 2
}
