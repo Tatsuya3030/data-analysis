{
 "cells": [
  {
   "cell_type": "code",
   "execution_count": 1,
   "metadata": {},
   "outputs": [
    {
     "name": "stdout",
     "output_type": "stream",
     "text": [
      "             precision    recall  f1-score   support\n",
      "\n",
      "          3       0.00      0.00      0.00         4\n",
      "          4       0.67      0.24      0.35        34\n",
      "          5       0.61      0.67      0.64       275\n",
      "          6       0.63      0.69      0.66       444\n",
      "          7       0.65      0.56      0.60       181\n",
      "          8       0.71      0.41      0.52        41\n",
      "          9       0.00      0.00      0.00         1\n",
      "\n",
      "avg / total       0.63      0.63      0.62       980\n",
      "\n",
      "正解率= 0.629591836735\n"
     ]
    },
    {
     "name": "stderr",
     "output_type": "stream",
     "text": [
      "/Users/kitamuratatsuya/.pyenv/versions/anaconda3-5.0.0/lib/python3.6/site-packages/sklearn/metrics/classification.py:1135: UndefinedMetricWarning: Precision and F-score are ill-defined and being set to 0.0 in labels with no predicted samples.\n",
      "  'precision', 'predicted', average, warn_for)\n"
     ]
    }
   ],
   "source": [
    "import pandas as pd\n",
    "from sklearn.model_selection import train_test_split\n",
    "from sklearn.ensemble import RandomForestClassifier \n",
    "from sklearn.metrics import accuracy_score\n",
    "from sklearn.metrics import classification_report\n",
    "\n",
    "# データを読み込む\n",
    "wine = pd.read_csv(\"winequality-white.csv\", sep=\";\", encoding=\"utf-8\")\n",
    "\n",
    "# データをラベルとデータに分離 ---(*1)\n",
    "y = wine[\"quality\"]\n",
    "x = wine.drop(\"quality\", axis=1)\n",
    "\n",
    "# 学習用とテスト用に分割する ---(*2)\n",
    "x_train, x_test, y_train, y_test = train_test_split(\n",
    "  x, y, test_size=0.2)\n",
    "\n",
    "# 学習する ---(*3)\n",
    "model = RandomForestClassifier()\n",
    "model.fit(x_train, y_train)\n",
    "\n",
    "# 評価する ---(*4)\n",
    "y_pred = model.predict(x_test)\n",
    "print(classification_report(y_test, y_pred))\n",
    "print(\"正解率=\", accuracy_score(y_test, y_pred))\n",
    "\n"
   ]
  },
  {
   "cell_type": "code",
   "execution_count": null,
   "metadata": {
    "collapsed": true
   },
   "outputs": [],
   "source": []
  }
 ],
 "metadata": {
  "kernelspec": {
   "display_name": "Python 3",
   "language": "python",
   "name": "python3"
  },
  "language_info": {
   "codemirror_mode": {
    "name": "ipython",
    "version": 3
   },
   "file_extension": ".py",
   "mimetype": "text/x-python",
   "name": "python",
   "nbconvert_exporter": "python",
   "pygments_lexer": "ipython3",
   "version": "3.6.8"
  }
 },
 "nbformat": 4,
 "nbformat_minor": 2
}
